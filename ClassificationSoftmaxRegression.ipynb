{
 "cells": [
  {
   "cell_type": "markdown",
   "id": "68eb1598",
   "metadata": {},
   "source": [
    "# Classification using manually implemented Softmax Regression\n",
    "___"
   ]
  },
  {
   "cell_type": "markdown",
   "id": "23f462af",
   "metadata": {},
   "source": [
    "# <font color = \"green\"> This was created for maths understanding</font>"
   ]
  },
  {
   "cell_type": "markdown",
   "id": "c8dbb3c8",
   "metadata": {},
   "source": [
    "## 1. Import all the required libraries"
   ]
  },
  {
   "cell_type": "code",
   "execution_count": 1,
   "id": "491f8176",
   "metadata": {},
   "outputs": [],
   "source": [
    "from matplotlib import pyplot as plt\n",
    "import numpy as np\n",
    "import pandas as pd\n",
    "from sklearn.datasets import load_iris\n",
    "%matplotlib notebook"
   ]
  },
  {
   "cell_type": "markdown",
   "id": "d7abc7ad",
   "metadata": {},
   "source": [
    "## 2. Create the versions info file"
   ]
  },
  {
   "cell_type": "code",
   "execution_count": 2,
   "id": "f2c9646f",
   "metadata": {},
   "outputs": [],
   "source": [
    "import sklearn\n",
    "import matplotlib\n",
    "with open('requirements.txt', 'wt') as f:\n",
    "    np_vers = 'numpy version: ' + np.__version__ + '\\n'\n",
    "    pd_vers = 'pandas version: ' + pd.__version__ + '\\n'\n",
    "    sk_vers = 'sklearn version(mnist dataset only): ' + sklearn.__version__ + '\\n'\n",
    "    mat_vers = 'matplotlib version: ' + matplotlib.__version__ + '\\n'\n",
    "    f.write(np_vers)\n",
    "    f.write(pd_vers)\n",
    "    f.write(sk_vers)\n",
    "    f.write(mat_vers)\n",
    "    f.close()"
   ]
  },
  {
   "cell_type": "markdown",
   "id": "3e524459",
   "metadata": {},
   "source": [
    "## 3. Load the Iris dataset (for multiclassification)"
   ]
  },
  {
   "cell_type": "code",
   "execution_count": 3,
   "id": "bb265de6",
   "metadata": {},
   "outputs": [],
   "source": [
    "Iris = load_iris()\n",
    "properties = Iris['data']\n",
    "labels = Iris['target']"
   ]
  },
  {
   "cell_type": "code",
   "execution_count": 4,
   "id": "5d568de3",
   "metadata": {},
   "outputs": [
    {
     "data": {
      "text/plain": [
       "array([[5.1, 3.5, 1.4, 0.2],\n",
       "       [4.9, 3. , 1.4, 0.2],\n",
       "       [4.7, 3.2, 1.3, 0.2],\n",
       "       [4.6, 3.1, 1.5, 0.2],\n",
       "       [5. , 3.6, 1.4, 0.2]])"
      ]
     },
     "execution_count": 4,
     "metadata": {},
     "output_type": "execute_result"
    }
   ],
   "source": [
    "properties[:5]"
   ]
  },
  {
   "cell_type": "code",
   "execution_count": 5,
   "id": "563767b1",
   "metadata": {},
   "outputs": [
    {
     "data": {
      "text/plain": [
       "array([0, 0, 0, 0, 0])"
      ]
     },
     "execution_count": 5,
     "metadata": {},
     "output_type": "execute_result"
    }
   ],
   "source": [
    "labels[:5]"
   ]
  },
  {
   "cell_type": "markdown",
   "id": "a8e71685",
   "metadata": {},
   "source": [
    "## 4. Use one hot vector encoding"
   ]
  },
  {
   "cell_type": "code",
   "execution_count": 6,
   "id": "77aa1752",
   "metadata": {},
   "outputs": [],
   "source": [
    "from collections import Counter\n",
    "def OneListEncoder(list_cls):\n",
    "    '''\n",
    "    Encodes an array of class instances using specific vectors (zeros and ones)\n",
    "    '''\n",
    "    cls = list(Counter(list_cls).keys())\n",
    "    vector = np.zeros(len(cls), dtype = 'int')\n",
    "    encoded = []\n",
    "    for instance in list_cls:\n",
    "        copy = np.copy(vector)\n",
    "        index = cls.index(instance)\n",
    "        copy[index] += 1\n",
    "        encoded.append(copy)\n",
    "    return encoded"
   ]
  },
  {
   "cell_type": "code",
   "execution_count": 7,
   "id": "899e16dd",
   "metadata": {},
   "outputs": [],
   "source": [
    "labels = OneListEncoder(labels)"
   ]
  },
  {
   "cell_type": "code",
   "execution_count": 8,
   "id": "9392d293",
   "metadata": {},
   "outputs": [
    {
     "data": {
      "text/plain": [
       "[array([1, 0, 0]),\n",
       " array([1, 0, 0]),\n",
       " array([1, 0, 0]),\n",
       " array([1, 0, 0]),\n",
       " array([1, 0, 0])]"
      ]
     },
     "execution_count": 8,
     "metadata": {},
     "output_type": "execute_result"
    }
   ],
   "source": [
    "labels[:5]"
   ]
  },
  {
   "cell_type": "code",
   "execution_count": 9,
   "id": "4b22e86e",
   "metadata": {},
   "outputs": [
    {
     "data": {
      "text/html": [
       "<div>\n",
       "<style scoped>\n",
       "    .dataframe tbody tr th:only-of-type {\n",
       "        vertical-align: middle;\n",
       "    }\n",
       "\n",
       "    .dataframe tbody tr th {\n",
       "        vertical-align: top;\n",
       "    }\n",
       "\n",
       "    .dataframe thead th {\n",
       "        text-align: right;\n",
       "    }\n",
       "</style>\n",
       "<table border=\"1\" class=\"dataframe\">\n",
       "  <thead>\n",
       "    <tr style=\"text-align: right;\">\n",
       "      <th></th>\n",
       "      <th>Sepal Length</th>\n",
       "      <th>Sepal Width</th>\n",
       "      <th>Petal Length</th>\n",
       "      <th>Petal Width</th>\n",
       "      <th>Labels</th>\n",
       "    </tr>\n",
       "  </thead>\n",
       "  <tbody>\n",
       "    <tr>\n",
       "      <th>0</th>\n",
       "      <td>5.1</td>\n",
       "      <td>3.5</td>\n",
       "      <td>1.4</td>\n",
       "      <td>0.2</td>\n",
       "      <td>[1, 0, 0]</td>\n",
       "    </tr>\n",
       "    <tr>\n",
       "      <th>1</th>\n",
       "      <td>4.9</td>\n",
       "      <td>3.0</td>\n",
       "      <td>1.4</td>\n",
       "      <td>0.2</td>\n",
       "      <td>[1, 0, 0]</td>\n",
       "    </tr>\n",
       "    <tr>\n",
       "      <th>2</th>\n",
       "      <td>4.7</td>\n",
       "      <td>3.2</td>\n",
       "      <td>1.3</td>\n",
       "      <td>0.2</td>\n",
       "      <td>[1, 0, 0]</td>\n",
       "    </tr>\n",
       "    <tr>\n",
       "      <th>3</th>\n",
       "      <td>4.6</td>\n",
       "      <td>3.1</td>\n",
       "      <td>1.5</td>\n",
       "      <td>0.2</td>\n",
       "      <td>[1, 0, 0]</td>\n",
       "    </tr>\n",
       "    <tr>\n",
       "      <th>4</th>\n",
       "      <td>5.0</td>\n",
       "      <td>3.6</td>\n",
       "      <td>1.4</td>\n",
       "      <td>0.2</td>\n",
       "      <td>[1, 0, 0]</td>\n",
       "    </tr>\n",
       "    <tr>\n",
       "      <th>...</th>\n",
       "      <td>...</td>\n",
       "      <td>...</td>\n",
       "      <td>...</td>\n",
       "      <td>...</td>\n",
       "      <td>...</td>\n",
       "    </tr>\n",
       "    <tr>\n",
       "      <th>145</th>\n",
       "      <td>6.7</td>\n",
       "      <td>3.0</td>\n",
       "      <td>5.2</td>\n",
       "      <td>2.3</td>\n",
       "      <td>[0, 0, 1]</td>\n",
       "    </tr>\n",
       "    <tr>\n",
       "      <th>146</th>\n",
       "      <td>6.3</td>\n",
       "      <td>2.5</td>\n",
       "      <td>5.0</td>\n",
       "      <td>1.9</td>\n",
       "      <td>[0, 0, 1]</td>\n",
       "    </tr>\n",
       "    <tr>\n",
       "      <th>147</th>\n",
       "      <td>6.5</td>\n",
       "      <td>3.0</td>\n",
       "      <td>5.2</td>\n",
       "      <td>2.0</td>\n",
       "      <td>[0, 0, 1]</td>\n",
       "    </tr>\n",
       "    <tr>\n",
       "      <th>148</th>\n",
       "      <td>6.2</td>\n",
       "      <td>3.4</td>\n",
       "      <td>5.4</td>\n",
       "      <td>2.3</td>\n",
       "      <td>[0, 0, 1]</td>\n",
       "    </tr>\n",
       "    <tr>\n",
       "      <th>149</th>\n",
       "      <td>5.9</td>\n",
       "      <td>3.0</td>\n",
       "      <td>5.1</td>\n",
       "      <td>1.8</td>\n",
       "      <td>[0, 0, 1]</td>\n",
       "    </tr>\n",
       "  </tbody>\n",
       "</table>\n",
       "<p>150 rows × 5 columns</p>\n",
       "</div>"
      ],
      "text/plain": [
       "     Sepal Length  Sepal Width  Petal Length  Petal Width     Labels\n",
       "0             5.1          3.5           1.4          0.2  [1, 0, 0]\n",
       "1             4.9          3.0           1.4          0.2  [1, 0, 0]\n",
       "2             4.7          3.2           1.3          0.2  [1, 0, 0]\n",
       "3             4.6          3.1           1.5          0.2  [1, 0, 0]\n",
       "4             5.0          3.6           1.4          0.2  [1, 0, 0]\n",
       "..            ...          ...           ...          ...        ...\n",
       "145           6.7          3.0           5.2          2.3  [0, 0, 1]\n",
       "146           6.3          2.5           5.0          1.9  [0, 0, 1]\n",
       "147           6.5          3.0           5.2          2.0  [0, 0, 1]\n",
       "148           6.2          3.4           5.4          2.3  [0, 0, 1]\n",
       "149           5.9          3.0           5.1          1.8  [0, 0, 1]\n",
       "\n",
       "[150 rows x 5 columns]"
      ]
     },
     "execution_count": 9,
     "metadata": {},
     "output_type": "execute_result"
    }
   ],
   "source": [
    "data = pd.DataFrame(data = properties, columns = ['Sepal Length', 'Sepal Width', 'Petal Length', 'Petal Width'])\n",
    "data.insert(loc = len(data.columns), column = 'Labels', value = labels)\n",
    "data"
   ]
  },
  {
   "cell_type": "markdown",
   "id": "6fb1333b",
   "metadata": {},
   "source": [
    "## 5. Split the data into train and test sets"
   ]
  },
  {
   "cell_type": "code",
   "execution_count": 10,
   "id": "f1367843",
   "metadata": {},
   "outputs": [],
   "source": [
    "from math import floor\n",
    "def trainTestSplit(data, test_ratio = 0.33):\n",
    "    '''\n",
    "    Splits the dataset into training and test data.\n",
    "    The ratio of test data is 0.33 by default.\n",
    "    '''\n",
    "    np.random.seed(42)\n",
    "    shuf_indices = np.random.permutation(len(data))\n",
    "    test_length = floor(test_ratio * len(data))\n",
    "    i_test = shuf_indices[:test_length]\n",
    "    i_train = shuf_indices[test_length:]\n",
    "    return data.iloc[i_train], data.iloc[i_test]"
   ]
  },
  {
   "cell_type": "code",
   "execution_count": 11,
   "id": "ca43ca39",
   "metadata": {},
   "outputs": [],
   "source": [
    "data_train, data_test = trainTestSplit(data, test_ratio = 0.2)"
   ]
  },
  {
   "cell_type": "code",
   "execution_count": 12,
   "id": "7f838087",
   "metadata": {},
   "outputs": [
    {
     "data": {
      "text/html": [
       "<div>\n",
       "<style scoped>\n",
       "    .dataframe tbody tr th:only-of-type {\n",
       "        vertical-align: middle;\n",
       "    }\n",
       "\n",
       "    .dataframe tbody tr th {\n",
       "        vertical-align: top;\n",
       "    }\n",
       "\n",
       "    .dataframe thead th {\n",
       "        text-align: right;\n",
       "    }\n",
       "</style>\n",
       "<table border=\"1\" class=\"dataframe\">\n",
       "  <thead>\n",
       "    <tr style=\"text-align: right;\">\n",
       "      <th></th>\n",
       "      <th>Sepal Length</th>\n",
       "      <th>Sepal Width</th>\n",
       "      <th>Petal Length</th>\n",
       "      <th>Petal Width</th>\n",
       "      <th>Labels</th>\n",
       "    </tr>\n",
       "  </thead>\n",
       "  <tbody>\n",
       "    <tr>\n",
       "      <th>22</th>\n",
       "      <td>4.6</td>\n",
       "      <td>3.6</td>\n",
       "      <td>1.0</td>\n",
       "      <td>0.2</td>\n",
       "      <td>[1, 0, 0]</td>\n",
       "    </tr>\n",
       "    <tr>\n",
       "      <th>15</th>\n",
       "      <td>5.7</td>\n",
       "      <td>4.4</td>\n",
       "      <td>1.5</td>\n",
       "      <td>0.4</td>\n",
       "      <td>[1, 0, 0]</td>\n",
       "    </tr>\n",
       "    <tr>\n",
       "      <th>65</th>\n",
       "      <td>6.7</td>\n",
       "      <td>3.1</td>\n",
       "      <td>4.4</td>\n",
       "      <td>1.4</td>\n",
       "      <td>[0, 1, 0]</td>\n",
       "    </tr>\n",
       "    <tr>\n",
       "      <th>11</th>\n",
       "      <td>4.8</td>\n",
       "      <td>3.4</td>\n",
       "      <td>1.6</td>\n",
       "      <td>0.2</td>\n",
       "      <td>[1, 0, 0]</td>\n",
       "    </tr>\n",
       "    <tr>\n",
       "      <th>42</th>\n",
       "      <td>4.4</td>\n",
       "      <td>3.2</td>\n",
       "      <td>1.3</td>\n",
       "      <td>0.2</td>\n",
       "      <td>[1, 0, 0]</td>\n",
       "    </tr>\n",
       "  </tbody>\n",
       "</table>\n",
       "</div>"
      ],
      "text/plain": [
       "    Sepal Length  Sepal Width  Petal Length  Petal Width     Labels\n",
       "22           4.6          3.6           1.0          0.2  [1, 0, 0]\n",
       "15           5.7          4.4           1.5          0.4  [1, 0, 0]\n",
       "65           6.7          3.1           4.4          1.4  [0, 1, 0]\n",
       "11           4.8          3.4           1.6          0.2  [1, 0, 0]\n",
       "42           4.4          3.2           1.3          0.2  [1, 0, 0]"
      ]
     },
     "execution_count": 12,
     "metadata": {},
     "output_type": "execute_result"
    }
   ],
   "source": [
    "data_train.head(5)"
   ]
  },
  {
   "cell_type": "code",
   "execution_count": 13,
   "id": "bbe58d33",
   "metadata": {},
   "outputs": [
    {
     "data": {
      "text/html": [
       "<div>\n",
       "<style scoped>\n",
       "    .dataframe tbody tr th:only-of-type {\n",
       "        vertical-align: middle;\n",
       "    }\n",
       "\n",
       "    .dataframe tbody tr th {\n",
       "        vertical-align: top;\n",
       "    }\n",
       "\n",
       "    .dataframe thead th {\n",
       "        text-align: right;\n",
       "    }\n",
       "</style>\n",
       "<table border=\"1\" class=\"dataframe\">\n",
       "  <thead>\n",
       "    <tr style=\"text-align: right;\">\n",
       "      <th></th>\n",
       "      <th>Sepal Length</th>\n",
       "      <th>Sepal Width</th>\n",
       "      <th>Petal Length</th>\n",
       "      <th>Petal Width</th>\n",
       "      <th>Labels</th>\n",
       "    </tr>\n",
       "  </thead>\n",
       "  <tbody>\n",
       "    <tr>\n",
       "      <th>73</th>\n",
       "      <td>6.1</td>\n",
       "      <td>2.8</td>\n",
       "      <td>4.7</td>\n",
       "      <td>1.2</td>\n",
       "      <td>[0, 1, 0]</td>\n",
       "    </tr>\n",
       "    <tr>\n",
       "      <th>18</th>\n",
       "      <td>5.7</td>\n",
       "      <td>3.8</td>\n",
       "      <td>1.7</td>\n",
       "      <td>0.3</td>\n",
       "      <td>[1, 0, 0]</td>\n",
       "    </tr>\n",
       "    <tr>\n",
       "      <th>118</th>\n",
       "      <td>7.7</td>\n",
       "      <td>2.6</td>\n",
       "      <td>6.9</td>\n",
       "      <td>2.3</td>\n",
       "      <td>[0, 0, 1]</td>\n",
       "    </tr>\n",
       "    <tr>\n",
       "      <th>78</th>\n",
       "      <td>6.0</td>\n",
       "      <td>2.9</td>\n",
       "      <td>4.5</td>\n",
       "      <td>1.5</td>\n",
       "      <td>[0, 1, 0]</td>\n",
       "    </tr>\n",
       "    <tr>\n",
       "      <th>76</th>\n",
       "      <td>6.8</td>\n",
       "      <td>2.8</td>\n",
       "      <td>4.8</td>\n",
       "      <td>1.4</td>\n",
       "      <td>[0, 1, 0]</td>\n",
       "    </tr>\n",
       "  </tbody>\n",
       "</table>\n",
       "</div>"
      ],
      "text/plain": [
       "     Sepal Length  Sepal Width  Petal Length  Petal Width     Labels\n",
       "73            6.1          2.8           4.7          1.2  [0, 1, 0]\n",
       "18            5.7          3.8           1.7          0.3  [1, 0, 0]\n",
       "118           7.7          2.6           6.9          2.3  [0, 0, 1]\n",
       "78            6.0          2.9           4.5          1.5  [0, 1, 0]\n",
       "76            6.8          2.8           4.8          1.4  [0, 1, 0]"
      ]
     },
     "execution_count": 13,
     "metadata": {},
     "output_type": "execute_result"
    }
   ],
   "source": [
    "data_test.head(5)"
   ]
  },
  {
   "cell_type": "markdown",
   "id": "95c2af06",
   "metadata": {},
   "source": [
    "## 6. Create X and y datasets"
   ]
  },
  {
   "cell_type": "code",
   "execution_count": 14,
   "id": "c0b8f13b",
   "metadata": {},
   "outputs": [],
   "source": [
    "X_train = data_train.drop('Labels', axis = 1)\n",
    "y_train = data_train['Labels']\n",
    "X_test = data_test.drop('Labels', axis = 1)\n",
    "y_test = data_test['Labels']"
   ]
  },
  {
   "cell_type": "code",
   "execution_count": 15,
   "id": "2d89d5af",
   "metadata": {},
   "outputs": [
    {
     "data": {
      "text/html": [
       "<div>\n",
       "<style scoped>\n",
       "    .dataframe tbody tr th:only-of-type {\n",
       "        vertical-align: middle;\n",
       "    }\n",
       "\n",
       "    .dataframe tbody tr th {\n",
       "        vertical-align: top;\n",
       "    }\n",
       "\n",
       "    .dataframe thead th {\n",
       "        text-align: right;\n",
       "    }\n",
       "</style>\n",
       "<table border=\"1\" class=\"dataframe\">\n",
       "  <thead>\n",
       "    <tr style=\"text-align: right;\">\n",
       "      <th></th>\n",
       "      <th>Sepal Length</th>\n",
       "      <th>Sepal Width</th>\n",
       "      <th>Petal Length</th>\n",
       "      <th>Petal Width</th>\n",
       "    </tr>\n",
       "  </thead>\n",
       "  <tbody>\n",
       "    <tr>\n",
       "      <th>22</th>\n",
       "      <td>4.6</td>\n",
       "      <td>3.6</td>\n",
       "      <td>1.0</td>\n",
       "      <td>0.2</td>\n",
       "    </tr>\n",
       "    <tr>\n",
       "      <th>15</th>\n",
       "      <td>5.7</td>\n",
       "      <td>4.4</td>\n",
       "      <td>1.5</td>\n",
       "      <td>0.4</td>\n",
       "    </tr>\n",
       "    <tr>\n",
       "      <th>65</th>\n",
       "      <td>6.7</td>\n",
       "      <td>3.1</td>\n",
       "      <td>4.4</td>\n",
       "      <td>1.4</td>\n",
       "    </tr>\n",
       "    <tr>\n",
       "      <th>11</th>\n",
       "      <td>4.8</td>\n",
       "      <td>3.4</td>\n",
       "      <td>1.6</td>\n",
       "      <td>0.2</td>\n",
       "    </tr>\n",
       "    <tr>\n",
       "      <th>42</th>\n",
       "      <td>4.4</td>\n",
       "      <td>3.2</td>\n",
       "      <td>1.3</td>\n",
       "      <td>0.2</td>\n",
       "    </tr>\n",
       "  </tbody>\n",
       "</table>\n",
       "</div>"
      ],
      "text/plain": [
       "    Sepal Length  Sepal Width  Petal Length  Petal Width\n",
       "22           4.6          3.6           1.0          0.2\n",
       "15           5.7          4.4           1.5          0.4\n",
       "65           6.7          3.1           4.4          1.4\n",
       "11           4.8          3.4           1.6          0.2\n",
       "42           4.4          3.2           1.3          0.2"
      ]
     },
     "execution_count": 15,
     "metadata": {},
     "output_type": "execute_result"
    }
   ],
   "source": [
    "X_train.head(5)"
   ]
  },
  {
   "cell_type": "code",
   "execution_count": 16,
   "id": "7283e491",
   "metadata": {},
   "outputs": [
    {
     "data": {
      "text/plain": [
       "22     [1, 0, 0]\n",
       "15     [1, 0, 0]\n",
       "65     [0, 1, 0]\n",
       "11     [1, 0, 0]\n",
       "42     [1, 0, 0]\n",
       "146    [0, 0, 1]\n",
       "51     [0, 1, 0]\n",
       "27     [1, 0, 0]\n",
       "4      [1, 0, 0]\n",
       "32     [1, 0, 0]\n",
       "Name: Labels, dtype: object"
      ]
     },
     "execution_count": 16,
     "metadata": {},
     "output_type": "execute_result"
    }
   ],
   "source": [
    "y_train[:10]"
   ]
  },
  {
   "cell_type": "markdown",
   "id": "634e675e",
   "metadata": {},
   "source": [
    "## 7. Scale the data"
   ]
  },
  {
   "cell_type": "code",
   "execution_count": 17,
   "id": "e71a31ce",
   "metadata": {},
   "outputs": [],
   "source": [
    "class DataScalerMean:\n",
    "    mean = 1\n",
    "    def __init__(self): \n",
    "        return\n",
    "    \n",
    "    def fit(self, data):\n",
    "        self.mean = []\n",
    "        for instance in data.columns:\n",
    "            self.mean.append(np.mean(data[instance]))\n",
    "        \n",
    "    def transform(self, data):\n",
    "        scaled_data = []\n",
    "        for instance, idx in zip(data.columns, range(len(self.mean))):\n",
    "            scaled_data.append(data[instance]/self.mean[idx])\n",
    "        return pd.DataFrame(scaled_data).T\n",
    "    \n",
    "    def fit_transform(self, data):\n",
    "        self.fit(data)\n",
    "        scaled_data = self.transform(data)\n",
    "        return scaled_data\n",
    "    "
   ]
  },
  {
   "cell_type": "code",
   "execution_count": 18,
   "id": "6ca81d25",
   "metadata": {},
   "outputs": [],
   "source": [
    "scaler = DataScalerMean()\n",
    "X_scaled_train = scaler.fit_transform(X_train)"
   ]
  },
  {
   "cell_type": "code",
   "execution_count": 19,
   "id": "8361ae01",
   "metadata": {},
   "outputs": [
    {
     "data": {
      "text/html": [
       "<div>\n",
       "<style scoped>\n",
       "    .dataframe tbody tr th:only-of-type {\n",
       "        vertical-align: middle;\n",
       "    }\n",
       "\n",
       "    .dataframe tbody tr th {\n",
       "        vertical-align: top;\n",
       "    }\n",
       "\n",
       "    .dataframe thead th {\n",
       "        text-align: right;\n",
       "    }\n",
       "</style>\n",
       "<table border=\"1\" class=\"dataframe\">\n",
       "  <thead>\n",
       "    <tr style=\"text-align: right;\">\n",
       "      <th></th>\n",
       "      <th>Sepal Length</th>\n",
       "      <th>Sepal Width</th>\n",
       "      <th>Petal Length</th>\n",
       "      <th>Petal Width</th>\n",
       "    </tr>\n",
       "  </thead>\n",
       "  <tbody>\n",
       "    <tr>\n",
       "      <th>22</th>\n",
       "      <td>0.791852</td>\n",
       "      <td>1.175830</td>\n",
       "      <td>0.268336</td>\n",
       "      <td>0.169014</td>\n",
       "    </tr>\n",
       "    <tr>\n",
       "      <th>15</th>\n",
       "      <td>0.981208</td>\n",
       "      <td>1.437126</td>\n",
       "      <td>0.402504</td>\n",
       "      <td>0.338028</td>\n",
       "    </tr>\n",
       "    <tr>\n",
       "      <th>65</th>\n",
       "      <td>1.153350</td>\n",
       "      <td>1.012520</td>\n",
       "      <td>1.180680</td>\n",
       "      <td>1.183099</td>\n",
       "    </tr>\n",
       "    <tr>\n",
       "      <th>11</th>\n",
       "      <td>0.826280</td>\n",
       "      <td>1.110506</td>\n",
       "      <td>0.429338</td>\n",
       "      <td>0.169014</td>\n",
       "    </tr>\n",
       "    <tr>\n",
       "      <th>42</th>\n",
       "      <td>0.757424</td>\n",
       "      <td>1.045182</td>\n",
       "      <td>0.348837</td>\n",
       "      <td>0.169014</td>\n",
       "    </tr>\n",
       "    <tr>\n",
       "      <th>...</th>\n",
       "      <td>...</td>\n",
       "      <td>...</td>\n",
       "      <td>...</td>\n",
       "      <td>...</td>\n",
       "    </tr>\n",
       "    <tr>\n",
       "      <th>71</th>\n",
       "      <td>1.050065</td>\n",
       "      <td>0.914535</td>\n",
       "      <td>1.073345</td>\n",
       "      <td>1.098592</td>\n",
       "    </tr>\n",
       "    <tr>\n",
       "      <th>106</th>\n",
       "      <td>0.843494</td>\n",
       "      <td>0.816549</td>\n",
       "      <td>1.207513</td>\n",
       "      <td>1.436620</td>\n",
       "    </tr>\n",
       "    <tr>\n",
       "      <th>14</th>\n",
       "      <td>0.998422</td>\n",
       "      <td>1.306478</td>\n",
       "      <td>0.322004</td>\n",
       "      <td>0.169014</td>\n",
       "    </tr>\n",
       "    <tr>\n",
       "      <th>92</th>\n",
       "      <td>0.998422</td>\n",
       "      <td>0.849211</td>\n",
       "      <td>1.073345</td>\n",
       "      <td>1.014085</td>\n",
       "    </tr>\n",
       "    <tr>\n",
       "      <th>102</th>\n",
       "      <td>1.222206</td>\n",
       "      <td>0.979858</td>\n",
       "      <td>1.583184</td>\n",
       "      <td>1.774648</td>\n",
       "    </tr>\n",
       "  </tbody>\n",
       "</table>\n",
       "<p>120 rows × 4 columns</p>\n",
       "</div>"
      ],
      "text/plain": [
       "     Sepal Length  Sepal Width  Petal Length  Petal Width\n",
       "22       0.791852     1.175830      0.268336     0.169014\n",
       "15       0.981208     1.437126      0.402504     0.338028\n",
       "65       1.153350     1.012520      1.180680     1.183099\n",
       "11       0.826280     1.110506      0.429338     0.169014\n",
       "42       0.757424     1.045182      0.348837     0.169014\n",
       "..            ...          ...           ...          ...\n",
       "71       1.050065     0.914535      1.073345     1.098592\n",
       "106      0.843494     0.816549      1.207513     1.436620\n",
       "14       0.998422     1.306478      0.322004     0.169014\n",
       "92       0.998422     0.849211      1.073345     1.014085\n",
       "102      1.222206     0.979858      1.583184     1.774648\n",
       "\n",
       "[120 rows x 4 columns]"
      ]
     },
     "execution_count": 19,
     "metadata": {},
     "output_type": "execute_result"
    }
   ],
   "source": [
    "X_scaled_train"
   ]
  },
  {
   "cell_type": "markdown",
   "id": "918332ca",
   "metadata": {},
   "source": [
    "## 8. Create a SoftmaxRegression class, that uses BatchGD"
   ]
  },
  {
   "cell_type": "markdown",
   "id": "50437e64",
   "metadata": {},
   "source": [
    "**Softmax Score:**\n",
    "\n",
    "$\\large s(x^i) = \\theta^T \\cdot x^i$\n",
    "\n",
    "\n",
    "**Softmax function:**\n",
    "\n",
    "$\\large \\hat p_k = \\frac {exp(\\space s_k(\\space x^i \\space)\\space)}{\\sum _{j = 1} ^{K} exp(\\space s_j (\\space x^i \\space) \\space)}$\n",
    "\n",
    "$\\text{Where:} \\\\\n",
    "K \\text{ the is number of all clusters} \\\\\n",
    "k \\text{ is the current cluster's index} \\\\\n",
    "\\hat p_k \\text{is the estimated probability of an instance belonging to a certain cluster}$\n",
    "\n",
    "**Gradient:**\n",
    "\n",
    "$\\large \\nabla _{\\theta ^k} \\space J(\\Theta)  =  \\frac{1}{m} \\sum ^{m} _{i = 1}(\\hat p ^{(i)} _k  - y ^{(i)} _k) x^{(i)}$"
   ]
  },
  {
   "cell_type": "code",
   "execution_count": 20,
   "id": "ba3d97de",
   "metadata": {},
   "outputs": [],
   "source": [
    "class SoftmaxRegression:\n",
    "    theta = np.array([], dtype = 'float')\n",
    "    \n",
    "    def __init__(self, solver = 'BGD', n_iter = 100, learn_rate = 0.1):\n",
    "        self.n_iter = n_iter\n",
    "        self.learn_rate = learn_rate\n",
    "        self.solver = solver\n",
    "        \n",
    "    def softmax_score(self, X_i, Theta_k): #softmax score realization\n",
    "        return np.dot(X_i.T, Theta_k)\n",
    "    \n",
    "    def softmax_function(self, X_i, Theta, k):\n",
    "        denom = 0\n",
    "        for j in range(len(Theta)):\n",
    "            denom += np.exp(self.softmax_score(X_i, Theta[j])) #get the denominator\n",
    "        return (np.exp(self.softmax_score(X_i, Theta[k]))/denom) #probabililty of instance i being in k-th class\n",
    "    \n",
    "    def fit(self, X, y):\n",
    "        '''\n",
    "        Trains a Softmax Regression model given a pandas DataFrame X and list of one-hot-encoded labels y\n",
    "        '''\n",
    "        \n",
    "        if(self.solver != 'BGD'): return \"no such solver\" #Check if solver is right\n",
    "        \n",
    "        #copy the data and add a column of ones for training\n",
    "        X_0 = pd.DataFrame.copy(X)\n",
    "        X_0.insert(loc = 0, column = 'x0', value = np.ones(len(X_0), dtype = 'int')) \n",
    "    \n",
    "        len_X_0 = len(X_0)\n",
    "        width_X_0 = len(X_0.columns) #get length and witdh of X_0 matrix\n",
    "        \n",
    "        len_theta = len(y[0])\n",
    "        self.theta = np.random.randn(len_theta, width_X_0) #set random theta and get its length\n",
    "        \n",
    "        for iteration in range(self.n_iter): #in each iteration out of all\n",
    "            gradient = []\n",
    "            for v_idx in range(len_theta): #for each theta vector\n",
    "                vector_der = np.zeros(width_X_0, dtype = 'float')\n",
    "                for idx in range(len_X_0): #compute the derivative of the cost function\n",
    "                    vector_der += (self.softmax_function(X_0.iloc[idx], self.theta, v_idx) - \\\n",
    "                                   y.iloc[idx][v_idx]) * X_0.iloc[idx]\n",
    "                \n",
    "                #and append it to the gradient\n",
    "                gradient.append(np.multiply(1/len_X_0, vector_der))   \n",
    "                \n",
    "            #then use Gradient Descent's step\n",
    "            self.theta = np.subtract(self.theta, np.multiply(self.learn_rate, np.array(gradient)))\n",
    "        \n",
    "    def predict(self, X):\n",
    "        '''\n",
    "        Given a DataFrame X returns the prediction of a trained model\n",
    "        '''\n",
    "        #copy the data and add a column of ones\n",
    "        X_0 = pd.DataFrame.copy(X)\n",
    "        X_0.insert(loc = 0, column = 'x0', value = np.ones(shape = len(X_0), dtype = 'int'))\n",
    "        \n",
    "        #get length of both theta and X_0\n",
    "        len_theta = len(self.theta)\n",
    "        len_X_0 = len(X_0)\n",
    "\n",
    "        #create a matrix of probabilities - for each instance we will have n probabilities (n - number of clusters)\n",
    "        self.proba = np.zeros(shape = (len_X_0, len_theta), dtype = 'float')\n",
    "        \n",
    "        for instance in range(len(X_0)): # for each instance\n",
    "            for k in range(len_theta): #for each vector of Theta matrix\n",
    "                #compute the probability of instance belonging to k-th cluster\n",
    "                self.proba[instance][k] += self.softmax_function(X_0.iloc[instance], self.theta, k)\n",
    "                \n",
    "        #create an empty array for predictions\n",
    "        prediction = np.array([], dtype = int)\n",
    "        \n",
    "        for instance in self.proba: #for each instance in probability matrix\n",
    "            #append the array by the argument of the highest probability (thus, giving us a number)\n",
    "            prediction = np.append(prediction, np.argmax(instance)) \n",
    "            \n",
    "        return prediction"
   ]
  },
  {
   "cell_type": "code",
   "execution_count": 21,
   "id": "d8059cb6",
   "metadata": {},
   "outputs": [],
   "source": [
    "#Create the instance of SoftmaxRegression class with number of iterations equal to 100\n",
    "SRg = SoftmaxRegression(n_iter = 500)"
   ]
  },
  {
   "cell_type": "code",
   "execution_count": 22,
   "id": "b2c3219b",
   "metadata": {},
   "outputs": [],
   "source": [
    "#Fit the scaled data\n",
    "SRg.fit(X_train, y_train)"
   ]
  },
  {
   "cell_type": "code",
   "execution_count": 23,
   "id": "88aab92d",
   "metadata": {},
   "outputs": [
    {
     "data": {
      "text/plain": [
       "array([1, 0, 2, 1, 1, 0, 1, 2, 1, 1, 2, 0, 0, 0, 0, 1, 2, 1, 1, 2, 0, 2,\n",
       "       0, 2, 1, 2, 2, 2, 0, 0], dtype=int64)"
      ]
     },
     "execution_count": 23,
     "metadata": {},
     "output_type": "execute_result"
    }
   ],
   "source": [
    "#get the predictions \n",
    "X_scaled_test = scaler.transform(X_test)\n",
    "y_predict_labels = SRg.predict(X_test)\n",
    "y_predict_labels"
   ]
  },
  {
   "cell_type": "code",
   "execution_count": 24,
   "id": "2c4a0516",
   "metadata": {},
   "outputs": [
    {
     "name": "stdout",
     "output_type": "stream",
     "text": [
      "[1, 0, 2, 1, 1, 0, 1, 2, 1, 1, 2, 0, 0, 0, 0, 1, 2, 1, 1, 2, 0, 2, 0, 2, 2, 2, 2, 2, 0, 0]\n"
     ]
    }
   ],
   "source": [
    "#print test labels\n",
    "y_test_labels = []\n",
    "for instance in y_test:\n",
    "    y_test_labels.append(np.argmax(instance))\n",
    "print(y_test_labels)"
   ]
  },
  {
   "cell_type": "markdown",
   "id": "70ba940b",
   "metadata": {},
   "source": [
    "## 9. Evaluate the accuracy of a model"
   ]
  },
  {
   "cell_type": "code",
   "execution_count": 25,
   "id": "26dd17bb",
   "metadata": {},
   "outputs": [],
   "source": [
    "def eval_accuracy(y, y_pred):\n",
    "    len_y = len(y)\n",
    "    correct = 0\n",
    "    for idx in range(len_y):\n",
    "        if y[idx] == y_pred[idx]: correct += 1\n",
    "    return correct/len_y"
   ]
  },
  {
   "cell_type": "code",
   "execution_count": 26,
   "id": "7d769a4e",
   "metadata": {},
   "outputs": [
    {
     "data": {
      "text/plain": [
       "0.9666666666666667"
      ]
     },
     "execution_count": 26,
     "metadata": {},
     "output_type": "execute_result"
    }
   ],
   "source": [
    "eval_accuracy(y_test_labels, y_predict_labels)"
   ]
  },
  {
   "cell_type": "code",
   "execution_count": 27,
   "id": "ab98ee92",
   "metadata": {
    "scrolled": true
   },
   "outputs": [
    {
     "data": {
      "text/plain": [
       "array([ 0.77, 74.23, 25.  ])"
      ]
     },
     "execution_count": 27,
     "metadata": {},
     "output_type": "execute_result"
    }
   ],
   "source": [
    "#When predicting, the model calculates probabilities\n",
    "(SRg.proba[0]*100).round(2)"
   ]
  },
  {
   "cell_type": "code",
   "execution_count": 28,
   "id": "b5e3faa8",
   "metadata": {},
   "outputs": [
    {
     "data": {
      "text/plain": [
       "array([[7.66633986e-03, 7.42313509e-01, 2.50020151e-01],\n",
       "       [9.77301993e-01, 2.26978466e-02, 1.60529688e-07],\n",
       "       [5.49805063e-07, 1.34025147e-02, 9.86596935e-01],\n",
       "       [1.01021534e-02, 7.10115226e-01, 2.79782620e-01],\n",
       "       [5.91621558e-03, 8.48764355e-01, 1.45319430e-01]])"
      ]
     },
     "execution_count": 28,
     "metadata": {},
     "output_type": "execute_result"
    }
   ],
   "source": [
    "SRg.proba[:5]"
   ]
  },
  {
   "cell_type": "code",
   "execution_count": null,
   "id": "ac03ecfa",
   "metadata": {},
   "outputs": [],
   "source": []
  }
 ],
 "metadata": {
  "kernelspec": {
   "display_name": "Python 3",
   "language": "python",
   "name": "python3"
  },
  "language_info": {
   "codemirror_mode": {
    "name": "ipython",
    "version": 3
   },
   "file_extension": ".py",
   "mimetype": "text/x-python",
   "name": "python",
   "nbconvert_exporter": "python",
   "pygments_lexer": "ipython3",
   "version": "3.8.11"
  }
 },
 "nbformat": 4,
 "nbformat_minor": 5
}
